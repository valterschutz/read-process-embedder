{
 "cells": [
  {
   "cell_type": "code",
   "execution_count": 1,
   "metadata": {},
   "outputs": [],
   "source": [
    "from read_process_embedder.datasets import MomentsDataset, DataModuleFromDataset\n",
    "import torch\n",
    "from read_process_embedder.models import ReadProcessEmbedder\n",
    "import lightning as pl\n",
    "from lightning.pytorch.loggers import WandbLogger"
   ]
  },
  {
   "cell_type": "code",
   "execution_count": 2,
   "metadata": {},
   "outputs": [],
   "source": [
    "dataset = MomentsDataset(\n",
    "    means=torch.linspace(0, 10, 5).tolist(),\n",
    "    stds=torch.linspace(0.1, 1, 5).tolist(),\n",
    "    seq_length=100,\n",
    "    num_samples=1000,\n",
    ")\n",
    "datamodule = DataModuleFromDataset(dataset, batch_size=32)"
   ]
  },
  {
   "cell_type": "code",
   "execution_count": 3,
   "metadata": {},
   "outputs": [
    {
     "data": {
      "text/plain": [
       "(tensor(2.5041), tensor(0.0939), tensor([2.5000, 0.1000]))"
      ]
     },
     "execution_count": 3,
     "metadata": {},
     "output_type": "execute_result"
    }
   ],
   "source": [
    "i = 15\n",
    "dataset.X[i].mean(), dataset.X[i].std(), dataset.y[i]"
   ]
  },
  {
   "cell_type": "code",
   "execution_count": 4,
   "metadata": {},
   "outputs": [],
   "source": [
    "set_encoder = ReadProcessEmbedder(\n",
    "    feature_size=1,\n",
    "    output_size=2,\n",
    "    reading_block_cells=[32, 32],\n",
    "    writing_block_cells=[32, 32],\n",
    "    memory_size=16,\n",
    "    processing_steps=5,\n",
    ")"
   ]
  },
  {
   "cell_type": "code",
   "execution_count": 5,
   "metadata": {},
   "outputs": [
    {
     "data": {
      "text/plain": [
       "(torch.Size([32, 100, 1]), torch.Size([32, 2]))"
      ]
     },
     "execution_count": 5,
     "metadata": {},
     "output_type": "execute_result"
    }
   ],
   "source": [
    "X = dataset.X[:32]\n",
    "y = dataset.y[:32]\n",
    "X.shape, y.shape"
   ]
  },
  {
   "cell_type": "code",
   "execution_count": 6,
   "metadata": {},
   "outputs": [
    {
     "data": {
      "text/plain": [
       "torch.Size([32, 2])"
      ]
     },
     "execution_count": 6,
     "metadata": {},
     "output_type": "execute_result"
    }
   ],
   "source": [
    "set_encoder(X).shape"
   ]
  },
  {
   "cell_type": "code",
   "execution_count": 7,
   "metadata": {},
   "outputs": [
    {
     "name": "stderr",
     "output_type": "stream",
     "text": [
      "You are using the plain ModelCheckpoint callback. Consider using LitModelCheckpoint which with seamless uploading to Model registry.\n",
      "GPU available: True (cuda), used: True\n",
      "TPU available: False, using: 0 TPU cores\n",
      "HPU available: False, using: 0 HPUs\n",
      "You are using a CUDA device ('NVIDIA GeForce RTX 2050') that has Tensor Cores. To properly utilize them, you should set `torch.set_float32_matmul_precision('medium' | 'high')` which will trade-off precision for performance. For more details, read https://pytorch.org/docs/stable/generated/torch.set_float32_matmul_precision.html#torch.set_float32_matmul_precision\n",
      "\u001b[34m\u001b[1mwandb\u001b[0m: Using wandb-core as the SDK backend.  Please refer to https://wandb.me/wandb-core for more information.\n",
      "\u001b[34m\u001b[1mwandb\u001b[0m: Currently logged in as: \u001b[33mvalterschutz\u001b[0m (\u001b[33mvalterschutz-chalmers-university-of-technology\u001b[0m) to \u001b[32mhttps://api.wandb.ai\u001b[0m. Use \u001b[1m`wandb login --relogin`\u001b[0m to force relogin\n",
      "\u001b[34m\u001b[1mwandb\u001b[0m: \u001b[33mWARNING\u001b[0m Path logs/wandb/ wasn't writable, using system temp directory.\n"
     ]
    },
    {
     "data": {
      "text/html": [
       "Tracking run with wandb version 0.19.8"
      ],
      "text/plain": [
       "<IPython.core.display.HTML object>"
      ]
     },
     "metadata": {},
     "output_type": "display_data"
    },
    {
     "data": {
      "text/html": [
       "Run data is saved locally in <code>/tmp/wandb/run-20250321_142529-qbrk334y</code>"
      ],
      "text/plain": [
       "<IPython.core.display.HTML object>"
      ]
     },
     "metadata": {},
     "output_type": "display_data"
    },
    {
     "data": {
      "text/html": [
       "Syncing run <strong><a href='https://wandb.ai/valterschutz-chalmers-university-of-technology/read-process-embedder/runs/qbrk334y' target=\"_blank\">light-bush-5</a></strong> to <a href='https://wandb.ai/valterschutz-chalmers-university-of-technology/read-process-embedder' target=\"_blank\">Weights & Biases</a> (<a href='https://wandb.me/developer-guide' target=\"_blank\">docs</a>)<br>"
      ],
      "text/plain": [
       "<IPython.core.display.HTML object>"
      ]
     },
     "metadata": {},
     "output_type": "display_data"
    },
    {
     "data": {
      "text/html": [
       " View project at <a href='https://wandb.ai/valterschutz-chalmers-university-of-technology/read-process-embedder' target=\"_blank\">https://wandb.ai/valterschutz-chalmers-university-of-technology/read-process-embedder</a>"
      ],
      "text/plain": [
       "<IPython.core.display.HTML object>"
      ]
     },
     "metadata": {},
     "output_type": "display_data"
    },
    {
     "data": {
      "text/html": [
       " View run at <a href='https://wandb.ai/valterschutz-chalmers-university-of-technology/read-process-embedder/runs/qbrk334y' target=\"_blank\">https://wandb.ai/valterschutz-chalmers-university-of-technology/read-process-embedder/runs/qbrk334y</a>"
      ],
      "text/plain": [
       "<IPython.core.display.HTML object>"
      ]
     },
     "metadata": {},
     "output_type": "display_data"
    },
    {
     "name": "stderr",
     "output_type": "stream",
     "text": [
      "LOCAL_RANK: 0 - CUDA_VISIBLE_DEVICES: [0]\n",
      "\n",
      "  | Name          | Type    | Params | Mode \n",
      "--------------------------------------------------\n",
      "0 | reading_block | MLP     | 1.6 K  | train\n",
      "1 | rnn           | GRU     | 3.4 K  | train\n",
      "2 | proj          | Linear  | 528    | train\n",
      "3 | write_block   | MLP     | 2.2 K  | train\n",
      "4 | criterion     | MSELoss | 0      | train\n",
      "--------------------------------------------------\n",
      "7.7 K     Trainable params\n",
      "0         Non-trainable params\n",
      "7.7 K     Total params\n",
      "0.031     Total estimated model params size (MB)\n",
      "15        Modules in train mode\n",
      "0         Modules in eval mode\n"
     ]
    },
    {
     "name": "stdout",
     "output_type": "stream",
     "text": [
      "Sanity Checking DataLoader 0:   0%|          | 0/2 [00:00<?, ?it/s]"
     ]
    },
    {
     "name": "stderr",
     "output_type": "stream",
     "text": [
      "/home/valter/Documents/Projects/read-process-embedder/.venv/lib/python3.13/site-packages/lightning/pytorch/trainer/connectors/data_connector.py:425: The 'val_dataloader' does not have many workers which may be a bottleneck. Consider increasing the value of the `num_workers` argument` to `num_workers=21` in the `DataLoader` to improve performance.\n"
     ]
    },
    {
     "name": "stdout",
     "output_type": "stream",
     "text": [
      "                                                                           "
     ]
    },
    {
     "name": "stderr",
     "output_type": "stream",
     "text": [
      "/home/valter/Documents/Projects/read-process-embedder/.venv/lib/python3.13/site-packages/lightning/pytorch/trainer/connectors/data_connector.py:425: The 'train_dataloader' does not have many workers which may be a bottleneck. Consider increasing the value of the `num_workers` argument` to `num_workers=21` in the `DataLoader` to improve performance.\n",
      "/home/valter/Documents/Projects/read-process-embedder/.venv/lib/python3.13/site-packages/lightning/pytorch/loops/fit_loop.py:310: The number of training batches (25) is smaller than the logging interval Trainer(log_every_n_steps=50). Set a lower value for log_every_n_steps if you want to see logs for the training epoch.\n"
     ]
    },
    {
     "name": "stdout",
     "output_type": "stream",
     "text": [
      "Epoch 49: 100%|██████████| 25/25 [00:00<00:00, 49.12it/s, v_num=334y, train_loss=0.0409, val_loss=0.0517]"
     ]
    },
    {
     "name": "stderr",
     "output_type": "stream",
     "text": [
      "`Trainer.fit` stopped: `max_epochs=50` reached.\n"
     ]
    },
    {
     "name": "stdout",
     "output_type": "stream",
     "text": [
      "Epoch 49: 100%|██████████| 25/25 [00:00<00:00, 48.00it/s, v_num=334y, train_loss=0.0409, val_loss=0.0517]\n"
     ]
    }
   ],
   "source": [
    "logger = WandbLogger(project=\"read-process-embedder\", save_dir=\"logs\")\n",
    "trainer = pl.Trainer(\n",
    "    logger=logger,\n",
    "    max_epochs=50,\n",
    "    accelerator=\"gpu\" if torch.cuda.is_available() else \"cpu\",\n",
    "    default_root_dir=\"logs\",\n",
    ")\n",
    "trainer.fit(set_encoder, datamodule=datamodule)"
   ]
  },
  {
   "cell_type": "code",
   "execution_count": 8,
   "metadata": {},
   "outputs": [
    {
     "name": "stdout",
     "output_type": "stream",
     "text": [
      "Means: tensor([2.8770, 6.8934, 0.9088])\n",
      "Stds: tensor([0.5346, 0.5427, 0.5170])\n",
      "Means: tensor([2.8770, 6.8934, 0.9088])\n",
      "Stds: tensor([0.5346, 0.5427, 0.5170])\n",
      "Mean difference: tensor([2.3842e-07, 1.4305e-06, 9.5367e-07])\n",
      "Std difference: tensor([0.0000e+00, 1.1921e-07, 1.1921e-07])\n"
     ]
    }
   ],
   "source": [
    "# Check some random predictions\n",
    "sample1 = torch.normal(mean=3, std=0.7, size=(1, 100, 1))\n",
    "sample2 = torch.normal(mean=7, std=0.2, size=(1, 100, 1))\n",
    "sample3 = torch.normal(mean=1, std=0.5, size=(1, 100, 1))\n",
    "test_data = torch.cat([sample1, sample2, sample3], dim=0)\n",
    "with torch.no_grad():\n",
    "    model_output = set_encoder(test_data)\n",
    "print(f\"Means: {model_output[:, 0]}\")\n",
    "print(f\"Stds: {model_output[:, 1]}\")\n",
    "\n",
    "# Permute the data and check if we get the same output\n",
    "permuted_test_data = test_data[:, torch.randperm(100)]\n",
    "with torch.no_grad():\n",
    "    permuted_model_output = set_encoder(permuted_test_data)\n",
    "print(f\"Means: {permuted_model_output[:, 0]}\")\n",
    "print(f\"Stds: {permuted_model_output[:, 1]}\")\n",
    "\n",
    "# Check the differenc\n",
    "print(f\"Mean difference: {torch.abs(model_output[:, 0] - permuted_model_output[:, 0])}\")\n",
    "print(f\"Std difference: {torch.abs(model_output[:, 1] - permuted_model_output[:, 1])}\")"
   ]
  },
  {
   "cell_type": "code",
   "execution_count": null,
   "metadata": {},
   "outputs": [],
   "source": []
  }
 ],
 "metadata": {
  "kernelspec": {
   "display_name": ".venv",
   "language": "python",
   "name": "python3"
  },
  "language_info": {
   "codemirror_mode": {
    "name": "ipython",
    "version": 3
   },
   "file_extension": ".py",
   "mimetype": "text/x-python",
   "name": "python",
   "nbconvert_exporter": "python",
   "pygments_lexer": "ipython3",
   "version": "3.13.0"
  }
 },
 "nbformat": 4,
 "nbformat_minor": 2
}
